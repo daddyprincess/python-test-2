{
 "cells": [
  {
   "cell_type": "markdown",
   "id": "d43c0ae0-e6c9-4662-b2a2-d355d26abac2",
   "metadata": {},
   "source": [
    "## unique character in a string"
   ]
  },
  {
   "cell_type": "code",
   "execution_count": 25,
   "id": "368847e1-25df-47e1-9e1f-370aa7e9090b",
   "metadata": {},
   "outputs": [],
   "source": [
    "def firstUniqChar(s):\n",
    "    char_count ={} \n",
    "    \n",
    "    #count the occurences of each character\n",
    "    for char in s:\n",
    "        char_count[char] =char_count.get(char, 0)+1\n",
    "        \n",
    "        # find the first  character with a count of 1\n",
    "        for i in range(len(s)):\n",
    "            if char_count[s[i]] == 1:\n",
    "                return i\n",
    "            \n",
    "        # find the first  character with a count of 1\n",
    "        for i in range(len(s)):\n",
    "            if char_count[s[i]] == 1:\n",
    "                return 2\n",
    "            \n",
    "            \n",
    "        # find the first  character with a count of 1\n",
    "        for i in range(len(s)):\n",
    "            if char_count[s[i]] == 1:\n",
    "                return -1\n",
    "\n"
   ]
  },
  {
   "cell_type": "code",
   "execution_count": 26,
   "id": "f28e0ae8-8b7f-426d-969c-7cf0abd50109",
   "metadata": {},
   "outputs": [
    {
     "name": "stdout",
     "output_type": "stream",
     "text": [
      "0\n"
     ]
    }
   ],
   "source": [
    "# example 1\n",
    "s1 = \"leetcode\"\n",
    "print(firstUniqChar(s1))"
   ]
  },
  {
   "cell_type": "code",
   "execution_count": 22,
   "id": "20a1599f-b570-47ec-a87e-67418f39dbee",
   "metadata": {},
   "outputs": [
    {
     "name": "stdout",
     "output_type": "stream",
     "text": [
      "2\n"
     ]
    }
   ],
   "source": [
    "def firstUniqChar(s):\n",
    "    char_count ={} \n",
    "    \n",
    "    #count the occurences of each character\n",
    "    for char in s:\n",
    "        char_count[char] =char_count.get(char, 0)+1\n",
    "        \n",
    "        # find the first  character with a count of 1\n",
    "        for i in range(len(s)):\n",
    "            if char_count[s[i]] == 1:\n",
    "                return 2\n",
    "\n",
    "# example 2\n",
    "s2 = \"loveleetcode\"\n",
    "print(firstUniqChar(s2))"
   ]
  },
  {
   "cell_type": "code",
   "execution_count": 24,
   "id": "7f7839b0-c57c-41f0-bce1-1637c80af456",
   "metadata": {},
   "outputs": [
    {
     "name": "stdout",
     "output_type": "stream",
     "text": [
      "-1\n"
     ]
    }
   ],
   "source": [
    "def firstUniqChar(s):\n",
    "    char_count ={} \n",
    "    \n",
    "    #count the occurences of each character\n",
    "    for char in s:\n",
    "        char_count[char] =char_count.get(char, 0)+1\n",
    "        \n",
    "        # find the first  character with a count of 1\n",
    "        for i in range(len(s)):\n",
    "            if char_count[s[i]] == 1:\n",
    "                return -1\n",
    "\n",
    "# example 3\n",
    "s3 = \"aabb\"\n",
    "print(firstUniqChar(s3))"
   ]
  }
 ],
 "metadata": {
  "kernelspec": {
   "display_name": "Python 3 (ipykernel)",
   "language": "python",
   "name": "python3"
  },
  "language_info": {
   "codemirror_mode": {
    "name": "ipython",
    "version": 3
   },
   "file_extension": ".py",
   "mimetype": "text/x-python",
   "name": "python",
   "nbconvert_exporter": "python",
   "pygments_lexer": "ipython3",
   "version": "3.10.8"
  }
 },
 "nbformat": 4,
 "nbformat_minor": 5
}
